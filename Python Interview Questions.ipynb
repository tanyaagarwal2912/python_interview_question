{
 "cells": [
  {
   "cell_type": "markdown",
   "id": "a36f26df",
   "metadata": {},
   "source": [
    "# Python Interview Questions"
   ]
  },
  {
   "cell_type": "markdown",
   "id": "d16b595b",
   "metadata": {},
   "source": [
    "1. Check whether the string is palindrome or not:"
   ]
  },
  {
   "cell_type": "code",
   "execution_count": 16,
   "id": "e4419edf",
   "metadata": {},
   "outputs": [],
   "source": [
    "def is_palindrome(s):\n",
    "    return s == s[::-1]"
   ]
  },
  {
   "cell_type": "code",
   "execution_count": 17,
   "id": "3ce75054",
   "metadata": {},
   "outputs": [
    {
     "data": {
      "text/plain": [
       "False"
      ]
     },
     "execution_count": 17,
     "metadata": {},
     "output_type": "execute_result"
    }
   ],
   "source": [
    "is_palindrome(\"hello\")"
   ]
  },
  {
   "cell_type": "code",
   "execution_count": 18,
   "id": "348eb5bd",
   "metadata": {},
   "outputs": [
    {
     "data": {
      "text/plain": [
       "True"
      ]
     },
     "execution_count": 18,
     "metadata": {},
     "output_type": "execute_result"
    }
   ],
   "source": [
    "is_palindrome(\"level\")"
   ]
  },
  {
   "cell_type": "code",
   "execution_count": null,
   "id": "7b3c39d2",
   "metadata": {},
   "outputs": [],
   "source": []
  },
  {
   "cell_type": "markdown",
   "id": "50fa1d79",
   "metadata": {},
   "source": [
    "2. Given two arrays, write a python function to return the intersection of the two? For example, X = [1,5,9,0] and Y = [3,0,2,9] it should return [9,0]"
   ]
  },
  {
   "cell_type": "code",
   "execution_count": 20,
   "id": "4e818321",
   "metadata": {},
   "outputs": [],
   "source": [
    "X = [1,5,9,0]\n",
    "Y = [3,0,2,9]"
   ]
  },
  {
   "cell_type": "code",
   "execution_count": 22,
   "id": "1d27d4df",
   "metadata": {},
   "outputs": [
    {
     "data": {
      "text/plain": [
       "{0, 9}"
      ]
     },
     "execution_count": 22,
     "metadata": {},
     "output_type": "execute_result"
    }
   ],
   "source": [
    "set(X).intersection(set(Y))"
   ]
  },
  {
   "cell_type": "code",
   "execution_count": null,
   "id": "ab9de418",
   "metadata": {},
   "outputs": [],
   "source": []
  },
  {
   "cell_type": "markdown",
   "id": "b1a4f013",
   "metadata": {},
   "source": [
    "3. Given an array, remove all the duplicates from this array? For example: input: [1,2,3,1,3,6,5]"
   ]
  },
  {
   "cell_type": "code",
   "execution_count": 28,
   "id": "98f9b5fd",
   "metadata": {},
   "outputs": [
    {
     "name": "stdout",
     "output_type": "stream",
     "text": [
      "[1, 2, 3, 6, 5, 4]\n"
     ]
    }
   ],
   "source": [
    "input = [1,2,3,1,3,6,5,1,2,4]\n",
    "result = []\n",
    "for i in input:\n",
    "    if i not in result:\n",
    "        result.append(i)\n",
    "print(result)\n"
   ]
  },
  {
   "cell_type": "code",
   "execution_count": null,
   "id": "2a338f3b",
   "metadata": {},
   "outputs": [],
   "source": []
  },
  {
   "cell_type": "markdown",
   "id": "9c9fc130",
   "metadata": {},
   "source": [
    "4. Write a function to find factorial of numbers"
   ]
  },
  {
   "cell_type": "code",
   "execution_count": 29,
   "id": "b47af5a4",
   "metadata": {},
   "outputs": [],
   "source": [
    "def factorial(n):\n",
    "    if n==0 or n==1 :\n",
    "        return 1\n",
    "    else: \n",
    "        return n*factorial(n-1)"
   ]
  },
  {
   "cell_type": "code",
   "execution_count": 30,
   "id": "64708f12",
   "metadata": {},
   "outputs": [
    {
     "data": {
      "text/plain": [
       "120"
      ]
     },
     "execution_count": 30,
     "metadata": {},
     "output_type": "execute_result"
    }
   ],
   "source": [
    "factorial(5)"
   ]
  },
  {
   "cell_type": "code",
   "execution_count": null,
   "id": "786c6352",
   "metadata": {},
   "outputs": [],
   "source": []
  },
  {
   "cell_type": "markdown",
   "id": "05ccbabf",
   "metadata": {},
   "source": [
    "5. Find the sum of all the elements"
   ]
  },
  {
   "cell_type": "code",
   "execution_count": 64,
   "id": "f8ca0be0",
   "metadata": {},
   "outputs": [],
   "source": [
    "lst = [1,2,4,5,1,8]"
   ]
  },
  {
   "cell_type": "code",
   "execution_count": null,
   "id": "dccada8d",
   "metadata": {},
   "outputs": [],
   "source": []
  },
  {
   "cell_type": "code",
   "execution_count": 65,
   "id": "5a486bc3",
   "metadata": {},
   "outputs": [
    {
     "name": "stdout",
     "output_type": "stream",
     "text": [
      "21\n"
     ]
    }
   ],
   "source": [
    "sum = 0\n",
    "for i in range(0,len(lst)):\n",
    "    sum = sum + lst[i]\n",
    "print(sum)  "
   ]
  },
  {
   "cell_type": "code",
   "execution_count": null,
   "id": "65767af4",
   "metadata": {},
   "outputs": [],
   "source": []
  },
  {
   "cell_type": "markdown",
   "id": "b55cf572",
   "metadata": {},
   "source": [
    "6. Check whether the number in the list is prime or not!"
   ]
  },
  {
   "cell_type": "code",
   "execution_count": null,
   "id": "6c5769bb",
   "metadata": {},
   "outputs": [],
   "source": []
  },
  {
   "cell_type": "code",
   "execution_count": 80,
   "id": "7a78e3ed",
   "metadata": {},
   "outputs": [],
   "source": [
    "def is_prime(number):\n",
    "    if number <= 1:\n",
    "        return False \n",
    "    for i in range(2, int(number**0.5) + 1):\n",
    "        if number % i == 0:\n",
    "            return False  \n",
    "    return True\n",
    "            "
   ]
  },
  {
   "cell_type": "code",
   "execution_count": 81,
   "id": "6277755c",
   "metadata": {},
   "outputs": [
    {
     "data": {
      "text/plain": [
       "False"
      ]
     },
     "execution_count": 81,
     "metadata": {},
     "output_type": "execute_result"
    }
   ],
   "source": [
    "is_prime(51)"
   ]
  },
  {
   "cell_type": "code",
   "execution_count": null,
   "id": "eba5b4b0",
   "metadata": {},
   "outputs": [],
   "source": []
  },
  {
   "cell_type": "markdown",
   "id": "7c1a58db",
   "metadata": {},
   "source": [
    "7. Given a list of integers, create a new list with the strings \"even\" or \"odd\" corresponding to each integer using list comprehension."
   ]
  },
  {
   "cell_type": "code",
   "execution_count": 85,
   "id": "68b449ad",
   "metadata": {},
   "outputs": [
    {
     "data": {
      "text/plain": [
       "['even',\n",
       " 'odd',\n",
       " 'even',\n",
       " 'odd',\n",
       " 'even',\n",
       " 'odd',\n",
       " 'even',\n",
       " 'odd',\n",
       " 'even',\n",
       " 'odd',\n",
       " 'even',\n",
       " 'odd',\n",
       " 'even',\n",
       " 'odd',\n",
       " 'even',\n",
       " 'odd',\n",
       " 'even',\n",
       " 'odd',\n",
       " 'even',\n",
       " 'odd']"
      ]
     },
     "execution_count": 85,
     "metadata": {},
     "output_type": "execute_result"
    }
   ],
   "source": [
    "# find even and odd in the list of 20 numbers.\n",
    "['even' if i%2==0 else 'odd' for i in range(0,20) ]"
   ]
  },
  {
   "cell_type": "code",
   "execution_count": null,
   "id": "8553e0b6",
   "metadata": {},
   "outputs": [],
   "source": []
  },
  {
   "cell_type": "markdown",
   "id": "af6beded",
   "metadata": {},
   "source": [
    "8. Given a string, create a list containing only the vowels from the string using list comprehension."
   ]
  },
  {
   "cell_type": "code",
   "execution_count": 89,
   "id": "019ae636",
   "metadata": {},
   "outputs": [
    {
     "name": "stdout",
     "output_type": "stream",
     "text": [
      "['e', 'o', 'o', 'i', 'i', 'a', 'a']\n"
     ]
    }
   ],
   "source": [
    "#Given string\n",
    "input_string = \"hello world, this is tanya\"\n",
    "\n",
    "# check is char is vowel and create a vowel list\n",
    "vowels_list = [char for char in input_string if char.lower() in 'aeiou']\n",
    "\n",
    "#print the result\n",
    "print(vowels_list)"
   ]
  },
  {
   "cell_type": "code",
   "execution_count": null,
   "id": "91c3654c",
   "metadata": {},
   "outputs": [],
   "source": []
  },
  {
   "cell_type": "markdown",
   "id": "2e78f8b3",
   "metadata": {},
   "source": [
    "9. Given a string, create a dictionary by counting characters in a string."
   ]
  },
  {
   "cell_type": "code",
   "execution_count": 90,
   "id": "d7c5efe4",
   "metadata": {},
   "outputs": [
    {
     "name": "stdout",
     "output_type": "stream",
     "text": [
      "{'h': 1, 'w': 1, 'l': 3, ' ': 1, 'o': 2, 'd': 1, 'r': 1, 'e': 1}\n"
     ]
    }
   ],
   "source": [
    "# Given string\n",
    "input_string = \"hello world\"\n",
    "\n",
    "# Count characters and create a dictionary\n",
    "char_count_dict = {char: input_string.count(char) for char in set(input_string)}\n",
    "\n",
    "# Print the result\n",
    "print(char_count_dict)"
   ]
  },
  {
   "cell_type": "code",
   "execution_count": null,
   "id": "681af07d",
   "metadata": {},
   "outputs": [],
   "source": []
  },
  {
   "cell_type": "markdown",
   "id": "e1b02d5d",
   "metadata": {},
   "source": [
    "10. write a program in python to create pairs of teams in such a way that each team plays against every other team exactly once. "
   ]
  },
  {
   "cell_type": "code",
   "execution_count": 92,
   "id": "5a6629cf",
   "metadata": {},
   "outputs": [],
   "source": [
    "def generate_match_schedule(teams):\n",
    "    match_schedule = []\n",
    "\n",
    "    for i in range(len(teams)):\n",
    "        for j in range(i + 1, len(teams)):\n",
    "            match_schedule.append((teams[i], teams[j]))\n",
    "\n",
    "    return match_schedule\n",
    "\n"
   ]
  },
  {
   "cell_type": "code",
   "execution_count": 93,
   "id": "ab374db5",
   "metadata": {},
   "outputs": [
    {
     "name": "stdout",
     "output_type": "stream",
     "text": [
      "('Team1', 'Team2')\n",
      "('Team1', 'Team3')\n",
      "('Team1', 'Team4')\n",
      "('Team1', 'Team5')\n",
      "('Team1', 'Team6')\n",
      "('Team1', 'Team7')\n",
      "('Team1', 'Team8')\n",
      "('Team1', 'Team9')\n",
      "('Team1', 'Team10')\n",
      "('Team2', 'Team3')\n",
      "('Team2', 'Team4')\n",
      "('Team2', 'Team5')\n",
      "('Team2', 'Team6')\n",
      "('Team2', 'Team7')\n",
      "('Team2', 'Team8')\n",
      "('Team2', 'Team9')\n",
      "('Team2', 'Team10')\n",
      "('Team3', 'Team4')\n",
      "('Team3', 'Team5')\n",
      "('Team3', 'Team6')\n",
      "('Team3', 'Team7')\n",
      "('Team3', 'Team8')\n",
      "('Team3', 'Team9')\n",
      "('Team3', 'Team10')\n",
      "('Team4', 'Team5')\n",
      "('Team4', 'Team6')\n",
      "('Team4', 'Team7')\n",
      "('Team4', 'Team8')\n",
      "('Team4', 'Team9')\n",
      "('Team4', 'Team10')\n",
      "('Team5', 'Team6')\n",
      "('Team5', 'Team7')\n",
      "('Team5', 'Team8')\n",
      "('Team5', 'Team9')\n",
      "('Team5', 'Team10')\n",
      "('Team6', 'Team7')\n",
      "('Team6', 'Team8')\n",
      "('Team6', 'Team9')\n",
      "('Team6', 'Team10')\n",
      "('Team7', 'Team8')\n",
      "('Team7', 'Team9')\n",
      "('Team7', 'Team10')\n",
      "('Team8', 'Team9')\n",
      "('Team8', 'Team10')\n",
      "('Team9', 'Team10')\n"
     ]
    }
   ],
   "source": [
    "teams_in_ipl = ['Team1', 'Team2', 'Team3', 'Team4', 'Team5', 'Team6', 'Team7', 'Team8', 'Team9', 'Team10']\n",
    "match_schedule = generate_match_schedule(teams_in_ipl)\n",
    "\n",
    "# Print the match schedule\n",
    "for match_pair in match_schedule:\n",
    "    print(match_pair)"
   ]
  },
  {
   "cell_type": "code",
   "execution_count": null,
   "id": "1eb4c18f",
   "metadata": {},
   "outputs": [],
   "source": []
  }
 ],
 "metadata": {
  "kernelspec": {
   "display_name": "Python 3 (ipykernel)",
   "language": "python",
   "name": "python3"
  },
  "language_info": {
   "codemirror_mode": {
    "name": "ipython",
    "version": 3
   },
   "file_extension": ".py",
   "mimetype": "text/x-python",
   "name": "python",
   "nbconvert_exporter": "python",
   "pygments_lexer": "ipython3",
   "version": "3.10.9"
  }
 },
 "nbformat": 4,
 "nbformat_minor": 5
}
